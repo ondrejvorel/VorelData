{
 "cells": [
  {
   "cell_type": "code",
   "execution_count": 1,
   "metadata": {},
   "outputs": [],
   "source": [
    "### Storemagic Commands ###\n",
    "# %store - Show list of all variables and their current values\n",
    "# %store -z - Remove all variables from storage\n",
    "# %store -r - Refresh all variables from store (delete current vals)"
   ]
  },
  {
   "cell_type": "code",
   "execution_count": 2,
   "metadata": {},
   "outputs": [],
   "source": [
    "import requests\n",
    "import urllib.request\n",
    "import time\n",
    "from bs4 import BeautifulSoup\n",
    "from selenium import webdriver\n",
    "from datetime import datetime\n",
    "from IPython.utils import io\n",
    "import unicodedata\n",
    "import re\n",
    "import csv"
   ]
  },
  {
   "cell_type": "code",
   "execution_count": 3,
   "metadata": {},
   "outputs": [],
   "source": [
    "def remove_accents(input_str):\n",
    "    nfkd_form = unicodedata.normalize('NFKD', input_str)\n",
    "    only_ascii = nfkd_form.encode('ASCII', 'ignore')\n",
    "    return only_ascii.decode(\"ASCII\").replace(\" \",\"_\").replace(\"-\",\"_\")"
   ]
  },
  {
   "cell_type": "code",
   "execution_count": 22,
   "metadata": {},
   "outputs": [],
   "source": [
    "def get_soup(url):\n",
    "    options = webdriver.ChromeOptions()\n",
    "    options.add_argument('headless')\n",
    "    driver = webdriver.Chrome(executable_path=r'C:\\chromedriver\\chromedriver.exe', options=options)\n",
    "    driver.get(url)\n",
    "    time.sleep(10)\n",
    "    html = driver.page_source\n",
    "    soup = BeautifulSoup(html, \"html.parser\")\n",
    "    driver.close()\n",
    "    driver.quit()\n",
    "    return soup"
   ]
  },
  {
   "cell_type": "code",
   "execution_count": 23,
   "metadata": {},
   "outputs": [],
   "source": [
    "def get_contact(url):\n",
    "    soup = get_soup(url)\n",
    "    cdiv = soup.find_all('div', {\"class\": \"infoWrap\"})\n",
    "    find_names = soup.find_all('h1', {\"data-dot\": \"premise/title\"})\n",
    "    find_phones = cdiv[0].find_all('span', {'data-dot' : 'origin-phone-number'})\n",
    "    find_emails = cdiv[0].find_all('a', {'data-dot' : 'e-mail'})\n",
    "    find_webs = cdiv[0].find_all('a', {'data-dot' : 'show-website'})\n",
    "    name = ';'.join([\" \".join(find_name.get_text().split()) for find_name in find_names])\n",
    "    phone = ';'.join([find_phone.get_text() for find_phone in find_phones]).replace(\" \",\"\")\n",
    "    email = ';'.join([find_email.get_text() for find_email in find_emails])\n",
    "    web = ';'.join([find_web.get_text() for find_web in find_webs])\n",
    "    return (url,name,email,web,phone)"
   ]
  },
  {
   "cell_type": "code",
   "execution_count": 24,
   "metadata": {},
   "outputs": [],
   "source": [
    "def get_category(category):\n",
    "    if category.find(\"/\") >= 0:\n",
    "        link = \"https://www.firmy.cz/\" + category\n",
    "        link_page = \"https://www.firmy.cz/{}?page={}\"\n",
    "        name = remove_accents(category.split(\"/\")[-1])\n",
    "    else:\n",
    "        link = \"https://www.firmy.cz/?q=\" + category\n",
    "        link_page = \"https://www.firmy.cz/?q={}&page={}\"\n",
    "        name = remove_accents(category)\n",
    "    return (link,link_page,name)"
   ]
  },
  {
   "cell_type": "code",
   "execution_count": 25,
   "metadata": {},
   "outputs": [],
   "source": [
    "categories = {\n",
    "    \"Velkoobchod-a-vyroba/Vyrobci-surovin-a-polotovaru/Vyrobci-kovovych-polotovaru\"\n",
    "}"
   ]
  },
  {
   "cell_type": "code",
   "execution_count": 26,
   "metadata": {},
   "outputs": [],
   "source": [
    "### TESTING SET of categories ###\n",
    "#categories = {\n",
    "#    \"Lakovny\",\n",
    "#    \"Velkoobchod plastovych polotovaru\",\n",
    "#    \"Zpracovani_Bioodpadu\"\n",
    "#}"
   ]
  },
  {
   "cell_type": "code",
   "execution_count": null,
   "metadata": {},
   "outputs": [],
   "source": []
  },
  {
   "cell_type": "code",
   "execution_count": 27,
   "metadata": {},
   "outputs": [
    {
     "name": "stdout",
     "output_type": "stream",
     "text": [
      "{'Velkoobchod-a-vyroba/Vyrobci-surovin-a-polotovaru/Vyrobci-kovovych-polotovaru': 80}\n"
     ]
    }
   ],
   "source": [
    "category_pages = dict()\n",
    "for category in categories:\n",
    "    link, link_page, name = get_category(category)\n",
    "    soup = get_soup(link)\n",
    "    divs = soup.findAll(\"div\", {\"class\": \"results\"}) \n",
    "    if not divs: \n",
    "        page_count = 1 \n",
    "    else: \n",
    "        total_records = divs[0].findAll('strong')[1]\n",
    "        page_count_raw = (int(total_records.text)//14)+1\n",
    "        #page_count = 36 if page_count_raw > 36 else page_count_raw\n",
    "        page_count = page_count_raw\n",
    "    category_pages[category] = page_count\n",
    "print(category_pages)"
   ]
  },
  {
   "cell_type": "code",
   "execution_count": null,
   "metadata": {},
   "outputs": [],
   "source": []
  },
  {
   "cell_type": "code",
   "execution_count": 28,
   "metadata": {},
   "outputs": [
    {
     "name": "stdout",
     "output_type": "stream",
     "text": [
      "In TOTAL we have \"80\" pages with \"14\" contacts on each of them.\n"
     ]
    }
   ],
   "source": [
    "links = dict()\n",
    "for category, pages in category_pages.items():\n",
    "    for page in range(1,pages+1):\n",
    "        link, link_page, name = get_category(category)\n",
    "        category_link = link_page.format(category, page)\n",
    "        links[category_link] = name\n",
    "print('In TOTAL we have \"'+str(len(links))+'\" pages with \"14\" contacts on each of them.')"
   ]
  },
  {
   "cell_type": "code",
   "execution_count": null,
   "metadata": {},
   "outputs": [],
   "source": []
  },
  {
   "cell_type": "code",
   "execution_count": 29,
   "metadata": {},
   "outputs": [
    {
     "name": "stdout",
     "output_type": "stream",
     "text": [
      "Vyrobci_kovovych_polotovaru | https://www.firmy.cz/detail/12985232-profmultitec-s-r-o-praha-modrany.html | 1-1\n",
      "Vyrobci_kovovych_polotovaru | https://www.firmy.cz/detail/666001-oh-ohyby-paskov.html | 1-2\n",
      "Vyrobci_kovovych_polotovaru | https://www.firmy.cz/detail/655558-metal-fa-cz-s-r-o-ostrava-vitkovice.html | 80-12\n"
     ]
    }
   ],
   "source": [
    "company_list = dict()\n",
    "\n",
    "clinks = 0\n",
    "for link, category in links.items():\n",
    "    clinks += 1\n",
    "    soup = get_soup(link)\n",
    "    divs = soup.findAll(\"a\", {\"class\": \"companyTitle statCompanyDetail\"})\n",
    "\n",
    "    cdivs = 0\n",
    "    for div in divs:\n",
    "        cdivs += 1\n",
    "        count = str(clinks)+'-'+str(cdivs)\n",
    "        href = \"https://www.firmy.cz\" + div[\"href\"]\n",
    "        company_list[href] = [category, count]\n",
    "        with io.capture_output() as captured:\n",
    "            %store company_list\n",
    "        print(category+' | '+str(href)+' | '+count)"
   ]
  },
  {
   "cell_type": "code",
   "execution_count": null,
   "metadata": {},
   "outputs": [],
   "source": []
  },
  {
   "cell_type": "code",
   "execution_count": 30,
   "metadata": {},
   "outputs": [],
   "source": [
    "### TESTING SET of company_list ###\n",
    "#company_list=dict()\n",
    "#company_list={\n",
    "#    'https://www.firmy.cz/detail/238041-autolakovna-prikryl-hodslavice.html': ['Lakovny','1-1'],\n",
    "#    'https://www.firmy.cz/detail/2670575-whb-polykarbonaty-ostrava-marianske-hory.html': ['Velkoobchod_plastovych_polotovaru','1-2'],\n",
    "#    'https://www.firmy.cz/detail/12829605-gutta-cr-dolany.html': ['Velkoobchod_plastovych_polotovaru','1-3'],\n",
    "#    'https://www.firmy.cz/detail/13083454-compag-votice-kompostarna-votice.html': ['Zpracovani_Bioodpadu','1-4']}"
   ]
  },
  {
   "cell_type": "code",
   "execution_count": null,
   "metadata": {},
   "outputs": [],
   "source": []
  },
  {
   "cell_type": "code",
   "execution_count": 31,
   "metadata": {},
   "outputs": [],
   "source": [
    "output={}\n",
    "for category in categories:\n",
    "    link, link_page, name = get_category(category)\n",
    "    output[name] = [] "
   ]
  },
  {
   "cell_type": "code",
   "execution_count": null,
   "metadata": {},
   "outputs": [],
   "source": []
  },
  {
   "cell_type": "code",
   "execution_count": 32,
   "metadata": {},
   "outputs": [
    {
     "name": "stdout",
     "output_type": "stream",
     "text": [
      "Done | https://www.firmy.cz/detail/12985232-profmultitec-s-r-o-praha-modrany.html | 1-1\n",
      "Done | https://www.firmy.cz/detail/666001-oh-ohyby-paskov.html | 1-2\n",
      "Done | https://www.firmy.cz/detail/655558-metal-fa-cz-s-r-o-ostrava-vitkovice.html | 80-12\n"
     ]
    }
   ],
   "source": [
    "for url, category in company_list.items():\n",
    "    try: \n",
    "        dt = datetime.now().strftime('%H:%M:%S')\n",
    "        url, name, email, web, phone = get_contact(url)\n",
    "        output[category[0]].append((name, email, web, phone))\n",
    "        with io.capture_output() as captured:\n",
    "            %store output\n",
    "        LogRow = 'Done|'+str(category[0])+'|'+str(url)+'|'+str(dt)+'|'+category[1]\n",
    "        print('Done | '+str(url)+' | '+category[1])     \n",
    "    except Exception as e:\n",
    "        dt = datetime.now().strftime('%H:%M:%S')\n",
    "        LogRow = 'Failed|'+str(category[0])+'|'+str(url)+'|'+str(dt)+'|'+str(e)+'|'+ category[1]\n",
    "        print('Failed | '+str(e)+' | '+ category[1]) \n",
    "    \n",
    "    log = open(\"Output/LogFile.txt\",\"a\")\n",
    "    log.write(LogRow +\"\\n\")\n",
    "    log.close()"
   ]
  },
  {
   "cell_type": "code",
   "execution_count": null,
   "metadata": {},
   "outputs": [],
   "source": []
  },
  {
   "cell_type": "code",
   "execution_count": 33,
   "metadata": {},
   "outputs": [],
   "source": [
    "# Insert records into separated csv. files based on main category\n",
    "# If you run it for a first time you need to create the folder (!mkdir FirmyCZ_Output)\n",
    "\n",
    "for cat, rows in output.items():\n",
    "    with open(\"Output/\"+cat+\".csv\",\"w\", newline='',encoding='utf-8') as f:\n",
    "        used = []\n",
    "        writer = csv.writer(f,delimiter=\"|\",quotechar='\"')\n",
    "        for row in rows:\n",
    "            if row[1] not in used:\n",
    "                writer.writerow(row)\n",
    "                used.append(row[1])"
   ]
  },
  {
   "cell_type": "code",
   "execution_count": null,
   "metadata": {},
   "outputs": [],
   "source": []
  },
  {
   "cell_type": "code",
   "execution_count": null,
   "metadata": {},
   "outputs": [],
   "source": []
  }
 ],
 "metadata": {
  "kernelspec": {
   "display_name": "Python 3",
   "language": "python",
   "name": "python3"
  },
  "language_info": {
   "codemirror_mode": {
    "name": "ipython",
    "version": 3
   },
   "file_extension": ".py",
   "mimetype": "text/x-python",
   "name": "python",
   "nbconvert_exporter": "python",
   "pygments_lexer": "ipython3",
   "version": "3.7.3"
  }
 },
 "nbformat": 4,
 "nbformat_minor": 2
}
